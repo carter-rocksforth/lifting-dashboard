{
 "cells": [
  {
   "cell_type": "markdown",
   "metadata": {},
   "source": [
    "# Data Exploration"
   ]
  },
  {
   "cell_type": "code",
   "execution_count": 1,
   "metadata": {},
   "outputs": [],
   "source": [
    "import os\n",
    "import json"
   ]
  },
  {
   "cell_type": "markdown",
   "metadata": {},
   "source": [
    "### Data Format Declaration"
   ]
  },
  {
   "cell_type": "markdown",
   "metadata": {},
   "source": [
    "The data will be stored in JSON format where every entry contains data on a single workout. JSON is chosen to support different types of workout. For example I have spent most of 2019 to 2020 doing the Stronglifts 5x5 workout, and have just recently switched over to Jim Wendler's 5x3x1. These are two completely differently formatted workouts and an unstructed data store such as JSON will allow me to keep track of all my workouts regardless of the structure.\n",
    "\n",
    "The data will be stored as a dictionary where the key represents the date of the workout, and the value is the information on that day's workout"
   ]
  },
  {
   "cell_type": "markdown",
   "metadata": {},
   "source": [
    "The key of the data will be stored as such:  \n",
    "0) date (str): A string of the days date, in DD-MM-YYYY format, e.g. 21-04-1997  "
   ]
  },
  {
   "cell_type": "markdown",
   "metadata": {},
   "source": [
    "5x3x1 Key Fields:  \n",
    "1) program (str): A string describing the particular workout program, e.g. '5x3x1'  \n",
    "2) type (str): A string of the particular lift for the workout. Squat, Bench Press, Deadlift, or Overhead Press  \n",
    "3) sets (list of dict): A list of all the sets, each set is a dictionary with 'reps' and 'weight'"
   ]
  },
  {
   "cell_type": "markdown",
   "metadata": {},
   "source": [
    "### Creating the JSON"
   ]
  },
  {
   "cell_type": "markdown",
   "metadata": {},
   "source": [
    "Creating the first workout"
   ]
  },
  {
   "cell_type": "code",
   "execution_count": 3,
   "metadata": {},
   "outputs": [],
   "source": [
    "workout = {\n",
    "    'program': '5x3x1',\n",
    "    'type': 'Squat',\n",
    "    'sets': [\n",
    "        {'reps': 5, 'weight': 185},\n",
    "        {'reps': 5, 'weight': 215},\n",
    "        {'reps': 5, 'weight': 240}\n",
    "    ]\n",
    "}"
   ]
  },
  {
   "cell_type": "markdown",
   "metadata": {},
   "source": [
    "Adding the workout to the JSON then saving to the repo"
   ]
  },
  {
   "cell_type": "code",
   "execution_count": 5,
   "metadata": {},
   "outputs": [],
   "source": [
    "lifts = {}\n",
    "lifts['25-05-2020'] = workout"
   ]
  },
  {
   "cell_type": "code",
   "execution_count": 6,
   "metadata": {},
   "outputs": [],
   "source": [
    "with open('lift_data.json', 'w') as outfile:\n",
    "    json.dump(lifts, outfile)"
   ]
  },
  {
   "cell_type": "markdown",
   "metadata": {},
   "source": [
    "# Reading in the Lift data and exploring"
   ]
  },
  {
   "cell_type": "code",
   "execution_count": 12,
   "metadata": {},
   "outputs": [],
   "source": [
    "with open('lift_data.json') as json_file:\n",
    "    data = json.load(json_file)"
   ]
  },
  {
   "cell_type": "code",
   "execution_count": 13,
   "metadata": {},
   "outputs": [
    {
     "data": {
      "text/plain": [
       "dict_keys(['25-05-2020'])"
      ]
     },
     "execution_count": 13,
     "metadata": {},
     "output_type": "execute_result"
    }
   ],
   "source": [
    "data.keys()"
   ]
  },
  {
   "cell_type": "code",
   "execution_count": null,
   "metadata": {},
   "outputs": [],
   "source": []
  }
 ],
 "metadata": {
  "kernelspec": {
   "display_name": "Python 3",
   "language": "python",
   "name": "python3"
  },
  "language_info": {
   "codemirror_mode": {
    "name": "ipython",
    "version": 3
   },
   "file_extension": ".py",
   "mimetype": "text/x-python",
   "name": "python",
   "nbconvert_exporter": "python",
   "pygments_lexer": "ipython3",
   "version": "3.8.2"
  }
 },
 "nbformat": 4,
 "nbformat_minor": 4
}
