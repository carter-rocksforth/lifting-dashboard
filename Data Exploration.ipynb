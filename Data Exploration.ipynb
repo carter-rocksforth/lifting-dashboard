{
 "cells": [
  {
   "cell_type": "markdown",
   "metadata": {},
   "source": [
    "# Data Exploration"
   ]
  },
  {
   "cell_type": "code",
   "execution_count": 47,
   "metadata": {},
   "outputs": [],
   "source": [
    "import datetime\n",
    "import os\n",
    "import json"
   ]
  },
  {
   "cell_type": "markdown",
   "metadata": {},
   "source": [
    "### Data Format Declaration"
   ]
  },
  {
   "cell_type": "markdown",
   "metadata": {},
   "source": [
    "The data will be stored in JSON format where every entry contains data on a single workout. JSON is chosen to support different types of workout. For example I have spent most of 2019 to 2020 doing the Stronglifts 5x5 workout, and have just recently switched over to Jim Wendler's 5x3x1. These are two completely differently formatted workouts and an unstructed data store such as JSON will allow me to keep track of all my workouts regardless of the structure.\n",
    "\n",
    "The data will be stored as a dictionary where the key represents the date of the workout, and the value is the information on that day's workout"
   ]
  },
  {
   "cell_type": "markdown",
   "metadata": {},
   "source": [
    "The key of the data will be stored as such:  \n",
    "0) date (str): A string of the days date, in DD-MM-YYYY format, e.g. 21-04-1997  "
   ]
  },
  {
   "cell_type": "markdown",
   "metadata": {},
   "source": [
    "5x3x1 Key Fields:  \n",
    "1) program (str): A string describing the particular workout program, e.g. '5x3x1'  \n",
    "2) type (str): A string of the particular lift for the workout. Squat, Bench Press, Deadlift, or Overhead Press  \n",
    "3) sets (list of dict): A list of all the sets, each set is a dictionary with 'reps' and 'weight'"
   ]
  },
  {
   "cell_type": "markdown",
   "metadata": {},
   "source": [
    "### Creating the JSON"
   ]
  },
  {
   "cell_type": "markdown",
   "metadata": {},
   "source": [
    "Creating the first workout"
   ]
  },
  {
   "cell_type": "code",
   "execution_count": 3,
   "metadata": {},
   "outputs": [],
   "source": [
    "workout = {\n",
    "    'program': '5x3x1',\n",
    "    'type': 'Squat',\n",
    "    'sets': [\n",
    "        {'reps': 5, 'weight': 185},\n",
    "        {'reps': 5, 'weight': 215},\n",
    "        {'reps': 10, 'weight': 240}\n",
    "    ]\n",
    "}"
   ]
  },
  {
   "cell_type": "markdown",
   "metadata": {},
   "source": [
    "Adding the workout to the JSON then saving to the repo"
   ]
  },
  {
   "cell_type": "code",
   "execution_count": 5,
   "metadata": {},
   "outputs": [],
   "source": [
    "lifts = {}\n",
    "lifts['25-05-2020'] = workout"
   ]
  },
  {
   "cell_type": "code",
   "execution_count": 6,
   "metadata": {},
   "outputs": [],
   "source": [
    "with open('lift_data.json', 'w') as outfile:\n",
    "    json.dump(lifts, outfile)"
   ]
  },
  {
   "cell_type": "markdown",
   "metadata": {},
   "source": [
    "# Adding Workouts to the Lift Data"
   ]
  },
  {
   "cell_type": "markdown",
   "metadata": {},
   "source": [
    "(temporary until the dashboard is working)"
   ]
  },
  {
   "cell_type": "code",
   "execution_count": 10,
   "metadata": {},
   "outputs": [],
   "source": [
    "with open('lift_data.json') as json_file:\n",
    "    data = json.load(json_file)"
   ]
  },
  {
   "cell_type": "code",
   "execution_count": 28,
   "metadata": {},
   "outputs": [
    {
     "data": {
      "text/plain": [
       "{'25-05-2020': {'program': '5x3x1',\n",
       "  'type': 'Squat',\n",
       "  'sets': [{'reps': 5, 'weight': 185},\n",
       "   {'reps': 5, 'weight': 215},\n",
       "   {'reps': 10, 'weight': 240}]},\n",
       " '27-05-2020': {'program': '5x3x1',\n",
       "  'type': 'Bench Press',\n",
       "  'sets': [{'reps': 5, 'weight': 100},\n",
       "   {'reps': 5, 'weight': 115},\n",
       "   {'reps': 11, 'weight': 130}]},\n",
       " '29-05-2020': {'program': '5x3x1',\n",
       "  'type': 'Deadlift',\n",
       "  'sets': [{'reps': 5, 'weight': 195},\n",
       "   {'reps': 5, 'weight': 225},\n",
       "   {'reps': 12, 'weight': 255}]},\n",
       " '30-05-2020': {'program': '5x3x1',\n",
       "  'type': 'Overhead Press',\n",
       "  'sets': [{'reps': 5, 'weight': 65},\n",
       "   {'reps': 5, 'weight': 75},\n",
       "   {'reps': 13, 'weight': 85}]},\n",
       " '06-06-2020': {'program': '5x3x1',\n",
       "  'type': 'Overhead Press',\n",
       "  'sets': [{'reps': 5, 'weight': 65},\n",
       "   {'reps': 5, 'weight': 75},\n",
       "   {'reps': 12, 'weight': 85}]},\n",
       " '10-06-2020': {'program': '5x3x1',\n",
       "  'type': 'Bench Press',\n",
       "  'sets': [{'reps': 5, 'weight': 100},\n",
       "   {'reps': 5, 'weight': 115},\n",
       "   {'reps': 10, 'weight': 130}]},\n",
       " '08-06-2020': {'program': '5x3x1',\n",
       "  'type': 'Squat',\n",
       "  'sets': [{'reps': 5, 'weight': 200},\n",
       "   {'reps': 5, 'weight': 225},\n",
       "   {'reps': 8, 'weight': 255}]},\n",
       " '05-06-2020': {'program': '5x3x1',\n",
       "  'type': 'Deadlift',\n",
       "  'sets': [{'reps': 5, 'weight': 195},\n",
       "   {'reps': 5, 'weight': 225},\n",
       "   {'reps': 13, 'weight': 255}]},\n",
       " '01-06-2020': {'program': '5x3x1',\n",
       "  'type': 'Squat',\n",
       "  'sets': [{'reps': 5, 'weight': 185},\n",
       "   {'reps': 5, 'weight': 215},\n",
       "   {'reps': 11, 'weight': 240}]},\n",
       " '03-05-2020': {'program': '5x3x1',\n",
       "  'type': 'Bench Press',\n",
       "  'sets': [{'reps': 5, 'weight': 100},\n",
       "   {'reps': 5, 'weight': 115},\n",
       "   {'reps': 11, 'weight': 130}]},\n",
       " '01-07-2020': {'program': '5x3x1',\n",
       "  'type': 'Bench Press',\n",
       "  'sets': [{'reps': 5, 'weight': 110},\n",
       "   {'reps': 5, 'weight': 125},\n",
       "   {'reps': 13, 'weight': 140}]},\n",
       " '29-06-2020': {'program': '5x3x1',\n",
       "  'type': 'Squat',\n",
       "  'sets': [{'reps': 5, 'weight': 190},\n",
       "   {'reps': 5, 'weight': 220},\n",
       "   {'reps': 5, 'weight': 250}]},\n",
       " '27-06-2020': {'program': '5x3x1',\n",
       "  'type': 'Overhead Press',\n",
       "  'sets': [{'reps': 5, 'weight': 95},\n",
       "   {'reps': 3, 'weight': 105},\n",
       "   {'reps': 1, 'weight': 115}]},\n",
       " '26-06-2020': {'program': '5x3x1',\n",
       "  'type': 'Deadlift',\n",
       "  'sets': [{'reps': 3, 'weight': 315},\n",
       "   {'reps': 1, 'weight': 335},\n",
       "   {'reps': 1, 'weight': 370}]},\n",
       " '24-06-2020': {'program': '5x3x1',\n",
       "  'type': 'Bench Press',\n",
       "  'sets': [{'reps': 5, 'weight': 135},\n",
       "   {'reps': 3, 'weight': 150},\n",
       "   {'reps': 1, 'weight': 185}]},\n",
       " '22-06-2020': {'program': '5x3x1',\n",
       "  'type': 'Squat',\n",
       "  'sets': [{'reps': 5, 'weight': 225},\n",
       "   {'reps': 3, 'weight': 270},\n",
       "   {'reps': 1, 'weight': 315}]}}"
      ]
     },
     "execution_count": 28,
     "metadata": {},
     "output_type": "execute_result"
    }
   ],
   "source": [
    "data"
   ]
  },
  {
   "cell_type": "code",
   "execution_count": 29,
   "metadata": {},
   "outputs": [],
   "source": [
    "workout = {\n",
    "    'program': '5x3x1',\n",
    "    'type': 'Squat',\n",
    "    'sets': [\n",
    "        {'reps': 5, 'weight': 225},\n",
    "        {'reps': 3, 'weight': 270},\n",
    "        {'reps': 1, 'weight': 315}\n",
    "    ]\n",
    "}"
   ]
  },
  {
   "cell_type": "code",
   "execution_count": 30,
   "metadata": {},
   "outputs": [],
   "source": [
    "data['22-06-2020'] = workout"
   ]
  },
  {
   "cell_type": "code",
   "execution_count": 32,
   "metadata": {},
   "outputs": [],
   "source": [
    "with open('lift_data.json', 'w') as outfile:\n",
    "    json.dump(data, outfile)"
   ]
  },
  {
   "cell_type": "markdown",
   "metadata": {},
   "source": [
    "# Reading in the Lift data and exploring"
   ]
  },
  {
   "cell_type": "code",
   "execution_count": 41,
   "metadata": {},
   "outputs": [],
   "source": [
    "with open('lift_data.json') as json_file:\n",
    "    data = json.load(json_file)"
   ]
  },
  {
   "cell_type": "code",
   "execution_count": 42,
   "metadata": {},
   "outputs": [
    {
     "data": {
      "text/plain": [
       "dict_keys(['25-05-2020', '27-05-2020', '29-05-2020', '30-05-2020', '06-06-2020', '10-06-2020', '08-06-2020', '05-06-2020', '01-06-2020', '03-05-2020', '01-07-2020', '29-06-2020', '27-06-2020', '26-06-2020', '24-06-2020', '22-06-2020'])"
      ]
     },
     "execution_count": 42,
     "metadata": {},
     "output_type": "execute_result"
    }
   ],
   "source": [
    "data.keys()"
   ]
  },
  {
   "cell_type": "code",
   "execution_count": 43,
   "metadata": {},
   "outputs": [
    {
     "data": {
      "text/plain": [
       "{'program': '5x3x1',\n",
       " 'type': 'Squat',\n",
       " 'sets': [{'reps': 5, 'weight': 185},\n",
       "  {'reps': 5, 'weight': 215},\n",
       "  {'reps': 10, 'weight': 240}]}"
      ]
     },
     "execution_count": 43,
     "metadata": {},
     "output_type": "execute_result"
    }
   ],
   "source": [
    "data['25-05-2020']"
   ]
  },
  {
   "cell_type": "markdown",
   "metadata": {},
   "source": [
    "Adding a way of converting the '5x3x1' programs into a dataframe to work with"
   ]
  },
  {
   "cell_type": "code",
   "execution_count": 61,
   "metadata": {},
   "outputs": [],
   "source": [
    "# Iterating through all the workouts and adding them to the dataframe if the program was 5x3x1\n",
    "import collections\n",
    "df = collections.defaultdict(list)\n",
    "\n",
    "for date, workout in data.items():\n",
    "    # If the program is not 5x3x1 then just skip it\n",
    "    if workout['program'] != '5x3x1':\n",
    "        continue\n",
    "    # Adding the date\n",
    "    date = list(map(int, date.split('-')))\n",
    "    df['date'].append(datetime.date(date[2], date[1], date[0]))\n",
    "    # Adding the exercise type\n",
    "    df['type'].append(workout['type'])\n",
    "    # Adding the sets and reps and weights\n",
    "    for i, set in enumerate(workout['sets']):\n",
    "        df['set_{}_reps'.format(i + 1)].append(set['reps'])\n",
    "        df['set_{}_weight'.format(i + 1)].append(set['weight'])"
   ]
  },
  {
   "cell_type": "code",
   "execution_count": 78,
   "metadata": {},
   "outputs": [
    {
     "data": {
      "text/html": [
       "<div>\n",
       "<style scoped>\n",
       "    .dataframe tbody tr th:only-of-type {\n",
       "        vertical-align: middle;\n",
       "    }\n",
       "\n",
       "    .dataframe tbody tr th {\n",
       "        vertical-align: top;\n",
       "    }\n",
       "\n",
       "    .dataframe thead th {\n",
       "        text-align: right;\n",
       "    }\n",
       "</style>\n",
       "<table border=\"1\" class=\"dataframe\">\n",
       "  <thead>\n",
       "    <tr style=\"text-align: right;\">\n",
       "      <th></th>\n",
       "      <th>date</th>\n",
       "      <th>type</th>\n",
       "      <th>set_1_reps</th>\n",
       "      <th>set_1_weight</th>\n",
       "      <th>set_2_reps</th>\n",
       "      <th>set_2_weight</th>\n",
       "      <th>set_3_reps</th>\n",
       "      <th>set_3_weight</th>\n",
       "    </tr>\n",
       "  </thead>\n",
       "  <tbody>\n",
       "    <tr>\n",
       "      <th>9</th>\n",
       "      <td>2020-05-03</td>\n",
       "      <td>Bench Press</td>\n",
       "      <td>5</td>\n",
       "      <td>100</td>\n",
       "      <td>5</td>\n",
       "      <td>115</td>\n",
       "      <td>11</td>\n",
       "      <td>130</td>\n",
       "    </tr>\n",
       "    <tr>\n",
       "      <th>0</th>\n",
       "      <td>2020-05-25</td>\n",
       "      <td>Squat</td>\n",
       "      <td>5</td>\n",
       "      <td>185</td>\n",
       "      <td>5</td>\n",
       "      <td>215</td>\n",
       "      <td>10</td>\n",
       "      <td>240</td>\n",
       "    </tr>\n",
       "    <tr>\n",
       "      <th>1</th>\n",
       "      <td>2020-05-27</td>\n",
       "      <td>Bench Press</td>\n",
       "      <td>5</td>\n",
       "      <td>100</td>\n",
       "      <td>5</td>\n",
       "      <td>115</td>\n",
       "      <td>11</td>\n",
       "      <td>130</td>\n",
       "    </tr>\n",
       "    <tr>\n",
       "      <th>2</th>\n",
       "      <td>2020-05-29</td>\n",
       "      <td>Deadlift</td>\n",
       "      <td>5</td>\n",
       "      <td>195</td>\n",
       "      <td>5</td>\n",
       "      <td>225</td>\n",
       "      <td>12</td>\n",
       "      <td>255</td>\n",
       "    </tr>\n",
       "    <tr>\n",
       "      <th>3</th>\n",
       "      <td>2020-05-30</td>\n",
       "      <td>Overhead Press</td>\n",
       "      <td>5</td>\n",
       "      <td>65</td>\n",
       "      <td>5</td>\n",
       "      <td>75</td>\n",
       "      <td>13</td>\n",
       "      <td>85</td>\n",
       "    </tr>\n",
       "  </tbody>\n",
       "</table>\n",
       "</div>"
      ],
      "text/plain": [
       "         date            type  set_1_reps  set_1_weight  set_2_reps  \\\n",
       "9  2020-05-03     Bench Press           5           100           5   \n",
       "0  2020-05-25           Squat           5           185           5   \n",
       "1  2020-05-27     Bench Press           5           100           5   \n",
       "2  2020-05-29        Deadlift           5           195           5   \n",
       "3  2020-05-30  Overhead Press           5            65           5   \n",
       "\n",
       "   set_2_weight  set_3_reps  set_3_weight  \n",
       "9           115          11           130  \n",
       "0           215          10           240  \n",
       "1           115          11           130  \n",
       "2           225          12           255  \n",
       "3            75          13            85  "
      ]
     },
     "execution_count": 78,
     "metadata": {},
     "output_type": "execute_result"
    }
   ],
   "source": [
    "# Converting the data into a pandas dataframe\n",
    "import pandas as pd\n",
    "df = pd.DataFrame(df).sort_values('date')\n",
    "df.head(5)"
   ]
  },
  {
   "cell_type": "code",
   "execution_count": 76,
   "metadata": {},
   "outputs": [
    {
     "data": {
      "text/plain": [
       "9  set_1_reps     5\n",
       "   set_2_reps     5\n",
       "   set_3_reps    11\n",
       "0  set_1_reps     5\n",
       "   set_2_reps     5\n",
       "   set_3_reps    10\n",
       "1  set_1_reps     5\n",
       "   set_2_reps     5\n",
       "   set_3_reps    11\n",
       "2  set_1_reps     5\n",
       "   set_2_reps     5\n",
       "   set_3_reps    12\n",
       "dtype: int64"
      ]
     },
     "execution_count": 76,
     "metadata": {},
     "output_type": "execute_result"
    }
   ],
   "source": [
    "df[['set_1_reps', 'set_2_reps', 'set_3_reps']].stack().head(12)"
   ]
  },
  {
   "cell_type": "code",
   "execution_count": 77,
   "metadata": {},
   "outputs": [
    {
     "data": {
      "text/plain": [
       "9  set_1_weight    100\n",
       "   set_2_weight    115\n",
       "   set_3_weight    130\n",
       "0  set_1_weight    185\n",
       "   set_2_weight    215\n",
       "   set_3_weight    240\n",
       "1  set_1_weight    100\n",
       "   set_2_weight    115\n",
       "   set_3_weight    130\n",
       "2  set_1_weight    195\n",
       "   set_2_weight    225\n",
       "   set_3_weight    255\n",
       "dtype: int64"
      ]
     },
     "execution_count": 77,
     "metadata": {},
     "output_type": "execute_result"
    }
   ],
   "source": [
    "df[['set_1_weight', 'set_2_weight', 'set_3_weight']].stack().head(12)"
   ]
  },
  {
   "cell_type": "code",
   "execution_count": 65,
   "metadata": {},
   "outputs": [],
   "source": [
    "# Visualizing the reps and weights and color grouping by exercise type\n",
    "import matplotlib.pyplot as plt\n",
    "import numpy as np\n",
    "%matplotlib inline"
   ]
  },
  {
   "cell_type": "code",
   "execution_count": 79,
   "metadata": {},
   "outputs": [
    {
     "data": {
      "image/png": "[encoded data removed]",
      "text/plain": [
       "<Figure size 432x288 with 1 Axes>"
      ]
     },
     "metadata": {
      "needs_background": "light"
     },
     "output_type": "display_data"
    }
   ],
   "source": [
    "fig, ax = plt.subplots()\n",
    "\n",
    "for exercise, workout in df.groupby('type'):\n",
    "    x = workout[['set_1_reps', 'set_2_reps', 'set_3_reps']].stack().values\n",
    "    y = workout[['set_1_weight', 'set_2_weight', 'set_3_weight']].stack().values\n",
    "    ax.scatter(x, y, label=exercise)\n",
    "    \n",
    "\n",
    "ax.legend()\n",
    "\n",
    "plt.show()"
   ]
  },
  {
   "cell_type": "code",
   "execution_count": null,
   "metadata": {},
   "outputs": [],
   "source": []
  }
 ],
 "metadata": {
  "kernelspec": {
   "display_name": "Python 3",
   "language": "python",
   "name": "python3"
  },
  "language_info": {
   "codemirror_mode": {
    "name": "ipython",
    "version": 3
   },
   "file_extension": ".py",
   "mimetype": "text/x-python",
   "name": "python",
   "nbconvert_exporter": "python",
   "pygments_lexer": "ipython3",
   "version": "3.8.2"
  }
 },
 "nbformat": 4,
 "nbformat_minor": 4
}
